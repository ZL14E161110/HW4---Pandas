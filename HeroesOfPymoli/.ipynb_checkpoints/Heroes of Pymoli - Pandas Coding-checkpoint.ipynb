{
 "cells": [
  {
   "cell_type": "markdown",
   "metadata": {},
   "source": [
    "# Pandas: Heroes Of Pymoli - Analysis Report\n",
    " - Observed Trend 1:\n",
    " - Observed Trend 2:\n",
    " - Observed Trend 3:"
   ]
  },
  {
   "cell_type": "code",
   "execution_count": null,
   "metadata": {
    "collapsed": true
   },
   "outputs": [],
   "source": [
    "import pandas as pd"
   ]
  },
  {
   "cell_type": "code",
   "execution_count": null,
   "metadata": {},
   "outputs": [],
   "source": [
    "# Read the JSON file\n",
    "\n",
    "fpath = input(\"Please choice file (1) or file (2)?\")\n",
    "\n",
    "if (fpath == \"1\"):\n",
    "    JS = pd.read_json(\"purchase_data.json\")\n",
    "elif (fpath == \"2\"):\n",
    "    JS = pd.read_json(\"purchase_data2.json\")\n",
    "else:\n",
    "    print(\"no such file\")\n",
    "JS.head()\n"
   ]
  },
  {
   "cell_type": "markdown",
   "metadata": {},
   "source": [
    "#### Player Count"
   ]
  },
  {
   "cell_type": "code",
   "execution_count": null,
   "metadata": {},
   "outputs": [],
   "source": [
    "# Total Number of Players\n",
    "Player_Count = pd.DataFrame([{\"Total Players\":JS[\"SN\"].nunique()}])\n",
    "Player_Count"
   ]
  },
  {
   "cell_type": "markdown",
   "metadata": {},
   "source": [
    "#### Purchasing Analysis (Total)"
   ]
  },
  {
   "cell_type": "code",
   "execution_count": null,
   "metadata": {},
   "outputs": [],
   "source": [
    "#Number of Unique Items\n",
    "UItem = JS[\"Item ID\"].nunique()\n",
    "#Average Purchase Price\n",
    "AvePur = JS[\"Price\"].mean() \n",
    "#Total Number of Purchases\n",
    "NPur = JS[\"Price\"].count()\n",
    "#Total Revenue\n",
    "TRev = JS[\"Price\"].sum()\n",
    "\n",
    "PurAnsys = pd.DataFrame([{\"Number of Unique Items\":UItem, \"Average Price\":\"$\"+str(round(AvePur,2)), \"Number of Purchases\":NPur, \"Total Revenue\":\"$\"+str(round(TRev,2))}])\n",
    "\n",
    "PurAnsys = PurAnsys[[\"Number of Unique Items\",\"Average Price\",\"Number of Purchases\",\"Total Revenue\"]]\n",
    "PurAnsys"
   ]
  },
  {
   "cell_type": "markdown",
   "metadata": {},
   "source": [
    "#### Gender Demographics"
   ]
  },
  {
   "cell_type": "code",
   "execution_count": 130,
   "metadata": {},
   "outputs": [
    {
     "data": {
      "text/html": [
       "<div>\n",
       "<style>\n",
       "    .dataframe thead tr:only-child th {\n",
       "        text-align: right;\n",
       "    }\n",
       "\n",
       "    .dataframe thead th {\n",
       "        text-align: left;\n",
       "    }\n",
       "\n",
       "    .dataframe tbody tr th {\n",
       "        vertical-align: top;\n",
       "    }\n",
       "</style>\n",
       "<table border=\"1\" class=\"dataframe\">\n",
       "  <thead>\n",
       "    <tr style=\"text-align: right;\">\n",
       "      <th></th>\n",
       "      <th>Percentage of players</th>\n",
       "      <th>Total Count</th>\n",
       "    </tr>\n",
       "  </thead>\n",
       "  <tbody>\n",
       "    <tr>\n",
       "      <th>Male</th>\n",
       "      <td>82.05</td>\n",
       "      <td>64</td>\n",
       "    </tr>\n",
       "    <tr>\n",
       "      <th>Female</th>\n",
       "      <td>16.67</td>\n",
       "      <td>13</td>\n",
       "    </tr>\n",
       "    <tr>\n",
       "      <th>Other / Non-Disclosed</th>\n",
       "      <td>1.28</td>\n",
       "      <td>1</td>\n",
       "    </tr>\n",
       "  </tbody>\n",
       "</table>\n",
       "</div>"
      ],
      "text/plain": [
       "                       Percentage of players  Total Count\n",
       "Male                                   82.05           64\n",
       "Female                                 16.67           13\n",
       "Other / Non-Disclosed                   1.28            1"
      ]
     },
     "execution_count": 130,
     "metadata": {},
     "output_type": "execute_result"
    }
   ],
   "source": [
    "TotalC = JS[\"Gender\"].count()\n",
    "MaleC =JS[\"Gender\"].value_counts()\n",
    "MaleP =round(MaleC / TotalC*100,2)\n",
    "\n",
    "# Creating a new DataFrame using both duration and count\n",
    "GenderDemo = pd.DataFrame({\"Percentage of players\":MaleP,\"Total Count\":MaleC})\n",
    "GenderDemo\n",
    "\n",
    "#Alternative Method\n",
    "    #TotalC = JS[\"Gender\"].count()\n",
    "    #MaleC =pd.DataFrame(JS[\"Gender\"].value_counts())\n",
    "    #MaleP =pd.DataFrame(round(MaleC / TotalC*100,2))\n",
    "    #MaleC = MaleC.reset_index().rename(columns={'index':'Gender','Gender':'Total Count'})\n",
    "    #MaleP = MaleP.reset_index().rename(columns={'index':'Gender','Gender':'Percentage of Players'})\n",
    "    #GenderDemo = pd.merge(MaleP,MaleC,how='left',on='Gender')\n",
    "    #GenderDemo\n"
   ]
  },
  {
   "cell_type": "markdown",
   "metadata": {},
   "source": [
    "#### Purchasing Analysis (Gender)\n",
    " ###### The below each broken by gender"
   ]
  },
  {
   "cell_type": "code",
   "execution_count": 1,
   "metadata": {},
   "outputs": [
    {
     "ename": "NameError",
     "evalue": "name 'JS' is not defined",
     "output_type": "error",
     "traceback": [
      "\u001b[1;31m---------------------------------------------------------------------------\u001b[0m",
      "\u001b[1;31mNameError\u001b[0m                                 Traceback (most recent call last)",
      "\u001b[1;32m<ipython-input-1-6094de78dfeb>\u001b[0m in \u001b[0;36m<module>\u001b[1;34m()\u001b[0m\n\u001b[1;32m----> 1\u001b[1;33m \u001b[0mJSMax\u001b[0m \u001b[1;33m=\u001b[0m \u001b[0mJS\u001b[0m\u001b[1;33m[\u001b[0m\u001b[1;34m'Price'\u001b[0m\u001b[1;33m]\u001b[0m\u001b[1;33m.\u001b[0m\u001b[0mmax\u001b[0m\u001b[1;33m(\u001b[0m\u001b[1;33m)\u001b[0m\u001b[1;33m\u001b[0m\u001b[0m\n\u001b[0m\u001b[0;32m      2\u001b[0m \u001b[0mJSMin\u001b[0m \u001b[1;33m=\u001b[0m \u001b[0mJS\u001b[0m\u001b[1;33m[\u001b[0m\u001b[1;34m'Price'\u001b[0m\u001b[1;33m]\u001b[0m\u001b[1;33m.\u001b[0m\u001b[0mmin\u001b[0m\u001b[1;33m(\u001b[0m\u001b[1;33m)\u001b[0m\u001b[1;33m\u001b[0m\u001b[0m\n\u001b[0;32m      3\u001b[0m \u001b[0mJSMean\u001b[0m \u001b[1;33m=\u001b[0m \u001b[0mJS\u001b[0m\u001b[1;33m[\u001b[0m\u001b[1;34m'Price'\u001b[0m\u001b[1;33m]\u001b[0m\u001b[1;33m.\u001b[0m\u001b[0mmean\u001b[0m\u001b[1;33m(\u001b[0m\u001b[1;33m)\u001b[0m\u001b[1;33m\u001b[0m\u001b[0m\n\u001b[0;32m      4\u001b[0m \u001b[0mJSStd\u001b[0m \u001b[1;33m=\u001b[0m \u001b[0mJS\u001b[0m\u001b[1;33m[\u001b[0m\u001b[1;34m'Price'\u001b[0m\u001b[1;33m]\u001b[0m\u001b[1;33m.\u001b[0m\u001b[0mstd\u001b[0m\u001b[1;33m(\u001b[0m\u001b[1;33m)\u001b[0m\u001b[1;33m\u001b[0m\u001b[0m\n\u001b[0;32m      5\u001b[0m \u001b[0mJSN\u001b[0m \u001b[1;33m=\u001b[0m \u001b[1;33m(\u001b[0m\u001b[0mJS\u001b[0m\u001b[1;33m[\u001b[0m\u001b[1;34m'Price'\u001b[0m\u001b[1;33m]\u001b[0m \u001b[1;33m-\u001b[0m \u001b[0mJSMean\u001b[0m\u001b[1;33m)\u001b[0m\u001b[1;33m/\u001b[0m\u001b[0mJSStd\u001b[0m\u001b[1;33m\u001b[0m\u001b[0m\n",
      "\u001b[1;31mNameError\u001b[0m: name 'JS' is not defined"
     ]
    }
   ],
   "source": [
    "JSMax = JS['Price'].max()\n",
    "JSMin = JS['Price'].min()\n",
    "JSMean = JS['Price'].mean()\n",
    "JSStd = JS['Price'].std()\n",
    "JSN = (JS['Price'] - JSMean)/JSStd"
   ]
  },
  {
   "cell_type": "code",
   "execution_count": 280,
   "metadata": {
    "scrolled": true
   },
   "outputs": [
    {
     "data": {
      "text/html": [
       "<div>\n",
       "<style>\n",
       "    .dataframe thead tr:only-child th {\n",
       "        text-align: right;\n",
       "    }\n",
       "\n",
       "    .dataframe thead th {\n",
       "        text-align: left;\n",
       "    }\n",
       "\n",
       "    .dataframe tbody tr th {\n",
       "        vertical-align: top;\n",
       "    }\n",
       "</style>\n",
       "<table border=\"1\" class=\"dataframe\">\n",
       "  <thead>\n",
       "    <tr style=\"text-align: right;\">\n",
       "      <th></th>\n",
       "      <th>Purchase Count</th>\n",
       "      <th>Average Purchase Price</th>\n",
       "      <th>Total Purchase Value</th>\n",
       "      <th>Normalized Totals</th>\n",
       "    </tr>\n",
       "    <tr>\n",
       "      <th>Gender</th>\n",
       "      <th></th>\n",
       "      <th></th>\n",
       "      <th></th>\n",
       "      <th></th>\n",
       "    </tr>\n",
       "  </thead>\n",
       "  <tbody>\n",
       "    <tr>\n",
       "      <th>Female</th>\n",
       "      <td>13</td>\n",
       "      <td>3.18</td>\n",
       "      <td>41.38</td>\n",
       "      <td>41.38</td>\n",
       "    </tr>\n",
       "    <tr>\n",
       "      <th>Male</th>\n",
       "      <td>64</td>\n",
       "      <td>2.88</td>\n",
       "      <td>184.60</td>\n",
       "      <td>184.60</td>\n",
       "    </tr>\n",
       "    <tr>\n",
       "      <th>Other / Non-Disclosed</th>\n",
       "      <td>1</td>\n",
       "      <td>2.12</td>\n",
       "      <td>2.12</td>\n",
       "      <td>2.12</td>\n",
       "    </tr>\n",
       "  </tbody>\n",
       "</table>\n",
       "</div>"
      ],
      "text/plain": [
       "                       Purchase Count  Average Purchase Price  \\\n",
       "Gender                                                          \n",
       "Female                             13                    3.18   \n",
       "Male                               64                    2.88   \n",
       "Other / Non-Disclosed               1                    2.12   \n",
       "\n",
       "                       Total Purchase Value  Normalized Totals  \n",
       "Gender                                                          \n",
       "Female                                41.38              41.38  \n",
       "Male                                 184.60             184.60  \n",
       "Other / Non-Disclosed                  2.12               2.12  "
      ]
     },
     "execution_count": 280,
     "metadata": {},
     "output_type": "execute_result"
    }
   ],
   "source": [
    "JSMax = JS['Price'].max()\n",
    "JSMin = JS['Price'].min()\n",
    "JSMean = JS['Price'].mean()\n",
    "JSStd = JS['Price'].std()\n",
    "JSN = (JS['Price'] - JSMean)/JSStd\n",
    "\n",
    "JSGroup = JS.groupby(['Gender'])\n",
    "#Purchase Count\n",
    "PCbyG = JSGroup['Price'].count()\n",
    "#Average Purchase Price\n",
    "APbyG = round(JSGroup['Price'].mean(),2)\n",
    "#Total Purchase Value\n",
    "TPbyG = JSGroup['Price'].sum()\n",
    "#Normalized Totals\n",
    "JSN = (JS['Price'] - APbyG)/\n",
    "\n",
    "PAbyG = pd.DataFrame({\"Purchase Count\":PCbyG,\"Average Purchase Price\":APbyG,\"Total Purchase Value\":TPbyG,\"Normalized Totals\":TPbyGN})\n",
    "PAbyG = PAbyG[[\"Purchase Count\",\"Average Purchase Price\",\"Total Purchase Value\",\"Normalized Totals\"]]\n",
    "PAbyG"
   ]
  },
  {
   "cell_type": "markdown",
   "metadata": {},
   "source": [
    "#### Age Demographics\n",
    " ###### The below each broken into bins of 4 years (i.e. <10, 10-14, 15-19, etc.) "
   ]
  },
  {
   "cell_type": "code",
   "execution_count": 279,
   "metadata": {
    "scrolled": true
   },
   "outputs": [
    {
     "data": {
      "text/html": [
       "<div>\n",
       "<style>\n",
       "    .dataframe thead tr:only-child th {\n",
       "        text-align: right;\n",
       "    }\n",
       "\n",
       "    .dataframe thead th {\n",
       "        text-align: left;\n",
       "    }\n",
       "\n",
       "    .dataframe tbody tr th {\n",
       "        vertical-align: top;\n",
       "    }\n",
       "</style>\n",
       "<table border=\"1\" class=\"dataframe\">\n",
       "  <thead>\n",
       "    <tr style=\"text-align: right;\">\n",
       "      <th></th>\n",
       "      <th>Purchase Count</th>\n",
       "      <th>Average Purchase Price</th>\n",
       "      <th>Total Purchase Value</th>\n",
       "      <th>Normalized Totals</th>\n",
       "    </tr>\n",
       "    <tr>\n",
       "      <th>Age Group</th>\n",
       "      <th></th>\n",
       "      <th></th>\n",
       "      <th></th>\n",
       "      <th></th>\n",
       "    </tr>\n",
       "  </thead>\n",
       "  <tbody>\n",
       "    <tr>\n",
       "      <th>&lt;10</th>\n",
       "      <td>5</td>\n",
       "      <td>2.76</td>\n",
       "      <td>13.82</td>\n",
       "      <td>13.82</td>\n",
       "    </tr>\n",
       "    <tr>\n",
       "      <th>10-14</th>\n",
       "      <td>3</td>\n",
       "      <td>2.99</td>\n",
       "      <td>8.96</td>\n",
       "      <td>8.96</td>\n",
       "    </tr>\n",
       "    <tr>\n",
       "      <th>15-19</th>\n",
       "      <td>11</td>\n",
       "      <td>2.76</td>\n",
       "      <td>30.41</td>\n",
       "      <td>30.41</td>\n",
       "    </tr>\n",
       "    <tr>\n",
       "      <th>20-24</th>\n",
       "      <td>36</td>\n",
       "      <td>3.02</td>\n",
       "      <td>108.89</td>\n",
       "      <td>108.89</td>\n",
       "    </tr>\n",
       "    <tr>\n",
       "      <th>25-29</th>\n",
       "      <td>9</td>\n",
       "      <td>2.90</td>\n",
       "      <td>26.11</td>\n",
       "      <td>26.11</td>\n",
       "    </tr>\n",
       "    <tr>\n",
       "      <th>30-34</th>\n",
       "      <td>7</td>\n",
       "      <td>1.98</td>\n",
       "      <td>13.89</td>\n",
       "      <td>13.89</td>\n",
       "    </tr>\n",
       "    <tr>\n",
       "      <th>35-39</th>\n",
       "      <td>6</td>\n",
       "      <td>3.56</td>\n",
       "      <td>21.37</td>\n",
       "      <td>21.37</td>\n",
       "    </tr>\n",
       "    <tr>\n",
       "      <th>40+</th>\n",
       "      <td>1</td>\n",
       "      <td>4.65</td>\n",
       "      <td>4.65</td>\n",
       "      <td>4.65</td>\n",
       "    </tr>\n",
       "  </tbody>\n",
       "</table>\n",
       "</div>"
      ],
      "text/plain": [
       "           Purchase Count  Average Purchase Price  Total Purchase Value  \\\n",
       "Age Group                                                                 \n",
       "<10                     5                    2.76                 13.82   \n",
       "10-14                   3                    2.99                  8.96   \n",
       "15-19                  11                    2.76                 30.41   \n",
       "20-24                  36                    3.02                108.89   \n",
       "25-29                   9                    2.90                 26.11   \n",
       "30-34                   7                    1.98                 13.89   \n",
       "35-39                   6                    3.56                 21.37   \n",
       "40+                     1                    4.65                  4.65   \n",
       "\n",
       "           Normalized Totals  \n",
       "Age Group                     \n",
       "<10                    13.82  \n",
       "10-14                   8.96  \n",
       "15-19                  30.41  \n",
       "20-24                 108.89  \n",
       "25-29                  26.11  \n",
       "30-34                  13.89  \n",
       "35-39                  21.37  \n",
       "40+                     4.65  "
      ]
     },
     "execution_count": 279,
     "metadata": {},
     "output_type": "execute_result"
    }
   ],
   "source": [
    "# Create the bins in which Data will be held\n",
    "JS[\"Age\"]=pd.to_numeric(JS['Age'])\n",
    "bins = [0,9,14,19,24,29,34,39,40]\n",
    "group_names = ['<10','10-14','15-19','20-24','25-29','30-34','35-39','40+']\n",
    "JS[\"Age Group\"] = pd.cut(JS[\"Age\"],bins,labels=group_names)\n",
    "JSgrAge = JS.groupby(['Age Group'])\n",
    "#Purchase Count\n",
    "PCbyA =JSgrAge['Price'].count()\n",
    "#Average Purchase Price\n",
    "APbyA =round(JSgrAge['Price'].mean(),2)\n",
    "#Total Purchase Value\n",
    "TPbyA =JSgrAge['Price'].sum()\n",
    "#Normalized Totals\n",
    "TPbyAN = JSgrAge['Price'].sum(normalize=True)\n",
    "\n",
    "ADbyG = pd.DataFrame({\"Purchase Count\":PCbyA,\"Average Purchase Price\":APbyA,\"Total Purchase Value\":TPbyA,\"Normalized Totals\":TPbyAN})\n",
    "ADbyG = ADbyG[[\"Purchase Count\",\"Average Purchase Price\",\"Total Purchase Value\",\"Normalized Totals\"]]\n",
    "ADbyG"
   ]
  },
  {
   "cell_type": "code",
   "execution_count": null,
   "metadata": {
    "collapsed": true
   },
   "outputs": [],
   "source": [
    "Top Spenders\n",
    "\n",
    "\n",
    "Identify the the top 5 spenders in the game by total purchase value, then list (in a table):\n",
    "\n",
    "\n",
    "SN\n",
    "Purchase Count\n",
    "Average Purchase Price\n",
    "Total Purchase Value\n"
   ]
  },
  {
   "cell_type": "code",
   "execution_count": null,
   "metadata": {
    "collapsed": true
   },
   "outputs": [],
   "source": [
    "Most Popular Items\n",
    "\n",
    "\n",
    "Identify the 5 most popular items by purchase count, then list (in a table):\n",
    "\n",
    "\n",
    "Item ID\n",
    "Item Name\n",
    "Purchase Count\n",
    "Item Price\n",
    "Total Purchase Value\n"
   ]
  },
  {
   "cell_type": "code",
   "execution_count": null,
   "metadata": {
    "collapsed": true
   },
   "outputs": [],
   "source": [
    "Most Profitable Items\n",
    "\n",
    "\n",
    "Identify the 5 most profitable items by total purchase value, then list (in a table):\n",
    "\n",
    "\n",
    "Item ID\n",
    "Item Name\n",
    "Purchase Count\n",
    "Item Price\n",
    "Total Purchase Value"
   ]
  },
  {
   "cell_type": "code",
   "execution_count": null,
   "metadata": {
    "collapsed": true
   },
   "outputs": [],
   "source": []
  }
 ],
 "metadata": {
  "kernelspec": {
   "display_name": "Python 3",
   "language": "python",
   "name": "python3"
  },
  "language_info": {
   "codemirror_mode": {
    "name": "ipython",
    "version": 3
   },
   "file_extension": ".py",
   "mimetype": "text/x-python",
   "name": "python",
   "nbconvert_exporter": "python",
   "pygments_lexer": "ipython3",
   "version": "3.6.3"
  }
 },
 "nbformat": 4,
 "nbformat_minor": 2
}
